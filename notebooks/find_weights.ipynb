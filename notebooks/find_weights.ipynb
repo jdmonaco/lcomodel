{
 "metadata": {
  "name": "",
  "signature": "sha256:4a11832f373de6a2c6b5583615e4e4c4cf0ba900f147579064e12a087f6b3133"
 },
 "nbformat": 3,
 "nbformat_minor": 0,
 "worksheets": [
  {
   "cells": [
    {
     "cell_type": "code",
     "collapsed": false,
     "input": [
      "from __future__ import division, print_function\n",
      "\n",
      "import os\n",
      "import time\n",
      "import subprocess\n",
      "\n",
      "import numpy as np\n",
      "import scipy as sp\n",
      "\n",
      "from tools.plot import quicktitle\n",
      "from tools.radians import xy_to_rad_vec, circle_diff\n",
      "from tools.filters import quick_boxcar\n",
      "from tools.images import tiling_dims\n",
      "\n",
      "from trajectory import *"
     ],
     "language": "python",
     "metadata": {},
     "outputs": [],
     "prompt_number": 8
    },
    {
     "cell_type": "markdown",
     "metadata": {},
     "source": [
      "## Load and verify data traces"
     ]
    },
    {
     "cell_type": "code",
     "collapsed": false,
     "input": [
      "os.chdir(datadir)\n",
      "LCO_f = np.load('LCO-trace.npy')\n",
      "LCO_x = np.load('LCO-trace-x.npy')\n",
      "VCO_f = np.load('VCO-trace.npy')\n",
      "VCO_x = np.load('VCO-trace-x.npy')\n",
      "print('All data loaded!')\n",
      "print('LCO matrix:', LCO_f.shape)\n",
      "print('VCO matrix:', VCO_f.shape)"
     ],
     "language": "python",
     "metadata": {},
     "outputs": [
      {
       "output_type": "stream",
       "stream": "stdout",
       "text": [
        "All data loaded!\n",
        "LCO matrix: (128, 30000)\n",
        "VCO matrix: (9, 30000)\n"
       ]
      }
     ],
     "prompt_number": 11
    },
    {
     "cell_type": "code",
     "collapsed": false,
     "input": [
      "assert np.all(LCO_x == VCO_x), 'position traces were not the same!'\n",
      "print('Trajectory verification passed!')"
     ],
     "language": "python",
     "metadata": {},
     "outputs": [
      {
       "output_type": "stream",
       "stream": "stdout",
       "text": [
        "Trajectory verification passed!\n"
       ]
      }
     ],
     "prompt_number": 6
    },
    {
     "cell_type": "markdown",
     "metadata": {},
     "source": [
      "## Prepare matrices for pseudoinverse"
     ]
    },
    {
     "cell_type": "code",
     "collapsed": false,
     "input": [
      "L = LCO_f.T\n",
      "V = 1 - VCO_f.T\n",
      "print('L matrix:', L.shape)\n",
      "print('V matrix:', V.shape)"
     ],
     "language": "python",
     "metadata": {},
     "outputs": [
      {
       "output_type": "stream",
       "stream": "stdout",
       "text": [
        "L matrix: (30000, 128)\n",
        "V matrix: (30000, 9)\n"
       ]
      }
     ],
     "prompt_number": 12
    },
    {
     "cell_type": "markdown",
     "metadata": {},
     "source": [
      "## Compute pseudoinverse"
     ]
    },
    {
     "cell_type": "code",
     "collapsed": false,
     "input": [
      "Lplus = sp.linalg.pinv(L)\n",
      "print('L-inverse:', Lplus.shape)"
     ],
     "language": "python",
     "metadata": {},
     "outputs": [
      {
       "output_type": "stream",
       "stream": "stdout",
       "text": [
        "L-inverse: (128, 30000)\n"
       ]
      }
     ],
     "prompt_number": 16
    },
    {
     "cell_type": "markdown",
     "metadata": {},
     "source": [
      "## Compute weight matrix"
     ]
    },
    {
     "cell_type": "code",
     "collapsed": false,
     "input": [
      "W = np.dot(Lplus, V)\n",
      "print('Weight matrix:', W.shape)"
     ],
     "language": "python",
     "metadata": {},
     "outputs": [
      {
       "output_type": "stream",
       "stream": "stdout",
       "text": [
        "Weight matrix: (128, 9)\n"
       ]
      }
     ],
     "prompt_number": 21
    },
    {
     "cell_type": "code",
     "collapsed": false,
     "input": [
      "import matplotlib.pyplot as plt\n",
      "from tools.colormaps import diffmap"
     ],
     "language": "python",
     "metadata": {},
     "outputs": [],
     "prompt_number": 35
    },
    {
     "cell_type": "code",
     "collapsed": false,
     "input": [
      "%matplotlib inline\n",
      "plt.pcolor(W,cmap=diffmap(mid=-W.min()/(W.max()-W.min())))\n",
      "plt.axis(\"tight\")\n",
      "plt.colorbar()\n",
      "plt.xlabel('VCO')\n",
      "plt.ylabel('LCO')\n",
      "f = plt.gcf()"
     ],
     "language": "python",
     "metadata": {},
     "outputs": [
      {
       "metadata": {},
       "output_type": "display_data",
       "png": "[encoded data removed]",
       "text": [
        "<matplotlib.figure.Figure at 0x11482b2d0>"
       ]
      }
     ],
     "prompt_number": 39
    },
    {
     "cell_type": "code",
     "collapsed": false,
     "input": [
      "imagefn = 'weight_matrix.pdf'\n",
      "posterdir = '/Users/joe/projects/poster'\n",
      "\n",
      "savepath = os.path.join(posterdir, imagefn)\n",
      "f.savefig(savepath)"
     ],
     "language": "python",
     "metadata": {},
     "outputs": [],
     "prompt_number": 40
    },
    {
     "cell_type": "markdown",
     "metadata": {},
     "source": [
      "## Save weight matrix"
     ]
    },
    {
     "cell_type": "code",
     "collapsed": false,
     "input": [
      "which = 'W-matrix'\n",
      "save_fn = os.path.join(datadir, '%s.npy' % which)\n",
      "\n",
      "if os.path.exists(save_fn):\n",
      "    backup_fn = os.path.join(datadir, '%s-%s.npy' % (which, time.strftime('%Y-%m-%d-%H-%M-%S')))\n",
      "    if subprocess.call(['mv', save_fn, backup_fn]) == 0:\n",
      "        print('Saved backup to: ', backup_fn)\n",
      "\n",
      "np.save(save_fn, W)\n",
      "print('Saved weight matrix to: ', save_fn)"
     ],
     "language": "python",
     "metadata": {},
     "outputs": [
      {
       "output_type": "stream",
       "stream": "stdout",
       "text": [
        "Saved weight matrix to:  /Users/joe/source/phase_model/data/W-matrix.npy\n"
       ]
      }
     ],
     "prompt_number": 23
    }
   ],
   "metadata": {}
  }
 ]
}