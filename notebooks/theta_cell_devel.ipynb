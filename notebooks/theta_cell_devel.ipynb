{
 "metadata": {
  "name": "",
  "signature": "sha256:083daeefb495d1b50dda236ce8ec83ad9d6e81f1e1b4c5ffc087f8a3cb4e519d"
 },
 "nbformat": 3,
 "nbformat_minor": 0,
 "worksheets": [
  {
   "cells": [
    {
     "cell_type": "code",
     "collapsed": false,
     "input": [
      "import brian2 as br"
     ],
     "language": "python",
     "metadata": {},
     "outputs": [],
     "prompt_number": 1
    }
   ],
   "metadata": {}
  }
 ]
}