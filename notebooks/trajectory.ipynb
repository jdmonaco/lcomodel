{
 "metadata": {
  "name": "",
  "signature": "sha256:5f29c8188e35641a9663089a61a8d4954990774a4cee274e3c80df3b6b8b59c9"
 },
 "nbformat": 3,
 "nbformat_minor": 0,
 "worksheets": [
  {
   "cells": [
    {
     "cell_type": "code",
     "collapsed": false,
     "input": [
      "__all__ = [\n",
      "    'Trajectory', 'datadir', 'D_arena', 'R_arena', \n",
      "    'draw_arena', 'arena_sample', 'rim_sample',\n",
      "    'X_t', 'Y_t', 'speed_t', 'angle_t'\n",
      "]\n",
      "\n",
      "DEBUG = False"
     ],
     "language": "python",
     "metadata": {},
     "outputs": [],
     "prompt_number": 1
    },
    {
     "cell_type": "code",
     "collapsed": false,
     "input": [
      "from __future__ import division, print_function\n",
      "\n",
      "import os\n",
      "\n",
      "import numpy as np\n",
      "from numpy import load, array, arange, sqrt, median, pi\n",
      "from numpy.random import rand\n",
      "import matplotlib as mpl\n",
      "import matplotlib.pyplot as plt\n",
      "\n",
      "from tools.plot import quicktitle\n",
      "from tools.radians import xy_to_rad_vec\n",
      "from tools.filters import quick_boxcar\n",
      "from tools.images import tiling_dims"
     ],
     "language": "python",
     "metadata": {},
     "outputs": [],
     "prompt_number": 2
    },
    {
     "cell_type": "markdown",
     "metadata": {},
     "source": [
      "## Brian import"
     ]
    },
    {
     "cell_type": "code",
     "collapsed": true,
     "input": [
      "from brian2.units import *\n",
      "from brian2 import NeuronGroup, TimedArray"
     ],
     "language": "python",
     "metadata": {},
     "outputs": [
      {
       "output_type": "stream",
       "stream": "stderr",
       "text": [
        "WARNING  py.warnings: /Users/joe/anaconda/lib/python2.7/site-packages/jinja2/loaders.py:212: UserWarning: Module argparse was already imported from /Users/joe/anaconda/lib/python2.7/argparse.pyc, but /Users/joe/anaconda/lib/python2.7/site-packages is being added to sys.path\n",
        "  from pkg_resources import DefaultProvider, ResourceManager, \\\n",
        "\n"
       ]
      },
      {
       "output_type": "stream",
       "stream": "stderr",
       "text": [
        "WARNING:py.warnings:/Users/joe/anaconda/lib/python2.7/site-packages/jinja2/loaders.py:212: UserWarning: Module argparse was already imported from /Users/joe/anaconda/lib/python2.7/argparse.pyc, but /Users/joe/anaconda/lib/python2.7/site-packages is being added to sys.path\n",
        "  from pkg_resources import DefaultProvider, ResourceManager, \\\n",
        "\n"
       ]
      }
     ],
     "prompt_number": 3
    },
    {
     "cell_type": "code",
     "collapsed": false,
     "input": [
      "if DEBUG:\n",
      "    %matplotlib inline\n",
      "#     import mpld3\n",
      "#     mpld3.disable_notebook()"
     ],
     "language": "python",
     "metadata": {},
     "outputs": [],
     "prompt_number": 4
    },
    {
     "cell_type": "markdown",
     "metadata": {},
     "source": [
      "## Log units for debugging"
     ]
    },
    {
     "cell_type": "code",
     "collapsed": false,
     "input": [
      "def logunit(v, name):\n",
      "    if DEBUG:\n",
      "        print('unit(%s) =' % name, get_unit(v))"
     ],
     "language": "python",
     "metadata": {},
     "outputs": [],
     "prompt_number": 5
    },
    {
     "cell_type": "markdown",
     "metadata": {},
     "source": [
      "##Load the trajectory data"
     ]
    },
    {
     "cell_type": "code",
     "collapsed": false,
     "input": [
      "datadir = '/Users/joe/source/phase_model/data'\n",
      "posfile = os.path.join(datadir, 'pos.npy')\n",
      "pos = load(posfile)\n",
      "\n",
      "t_pos, x_pos, y_pos = pos\n",
      "t_pos = pos[0] * second\n",
      "traj_dt = median(t_pos[1:] - t_pos[:-1])\n",
      "\n",
      "x_pos = pos[1] * cm\n",
      "y_pos = pos[2] * cm\n",
      "\n",
      "if DEBUG:\n",
      "    print('dt =', traj_dt)\n",
      "logunit(x_pos, 'x')\n",
      "logunit(y_pos, 'y')"
     ],
     "language": "python",
     "metadata": {},
     "outputs": [],
     "prompt_number": 6
    },
    {
     "cell_type": "markdown",
     "metadata": {},
     "source": [
      "## Helper functions"
     ]
    },
    {
     "cell_type": "markdown",
     "metadata": {},
     "source": [
      "### Arena parameters"
     ]
    },
    {
     "cell_type": "code",
     "collapsed": false,
     "input": [
      "R_arena = 0.40 * meter\n",
      "D_arena = 2 * R_arena"
     ],
     "language": "python",
     "metadata": {},
     "outputs": [],
     "prompt_number": 7
    },
    {
     "cell_type": "markdown",
     "metadata": {},
     "source": [
      "A function to draw the circle representing the arena boundary:"
     ]
    },
    {
     "cell_type": "code",
     "collapsed": false,
     "input": [
      "def draw_arena(ax=None):\n",
      "    if ax is None:\n",
      "        ax = plt.gca()\n",
      "    ax.add_artist(mpl.patches.Circle((0,0), radius=R_arena / cm, fill=False, ec='0.3', lw=2, ls='dashed', zorder=-1))\n",
      "    ax.axis(array([-1,1,-1,1]) * 1.2 * R_arena / cm)\n",
      "    return ax"
     ],
     "language": "python",
     "metadata": {},
     "outputs": [],
     "prompt_number": 8
    },
    {
     "cell_type": "markdown",
     "metadata": {},
     "source": [
      "Functions to uniformly sample a circular arena as spatial phase offsets:"
     ]
    },
    {
     "cell_type": "code",
     "collapsed": false,
     "input": [
      "def randc(N):\n",
      "    \"\"\"Return a 2-row vector of uniform random samples on the unit disc\n",
      "    \"\"\"\n",
      "    t = 2 * pi * rand(N)\n",
      "    r = rand(N) + rand(N)\n",
      "    r[r > 1] = 2 - r[r > 1]\n",
      "    return r * cos(t), r * sin(t)\n",
      "\n",
      "def arena_sample(n):\n",
      "    unit_disc = randc(n)\n",
      "    return R_arena * unit_disc[0], R_arena * unit_disc[1]\n",
      "\n",
      "def test_arena_sample():\n",
      "    xs, ys = arena_sample(100)\n",
      "    plt.scatter(xs / cm, ys / cm, marker='.', color='b')\n",
      "    plt.axis('equal')\n",
      "    draw_arena();\n",
      "    print('unit(xs) =', get_unit(xs))\n",
      "\n",
      "def rim_sample(n):\n",
      "    theta = np.linspace(0, 2*pi, n, endpoint=False)\n",
      "    return R_arena * cos(theta), R_arena * sin(theta)\n",
      "\n",
      "def test_rim_sample():\n",
      "    xs, ys = rim_sample(10)\n",
      "    plt.scatter(xs / cm, ys / cm, marker='.', color='b')\n",
      "    plt.axis('equal')\n",
      "    draw_arena();\n",
      "    print('unit(xs) =', get_unit(xs))\n",
      "    \n",
      "if DEBUG:\n",
      "    test_arena_sample()\n",
      "    test_rim_sample()"
     ],
     "language": "python",
     "metadata": {},
     "outputs": [],
     "prompt_number": 9
    },
    {
     "cell_type": "markdown",
     "metadata": {},
     "source": [
      "# Timed arrays and model group for motion data"
     ]
    },
    {
     "cell_type": "markdown",
     "metadata": {},
     "source": [
      "Create timed array objects for the trajectory data:"
     ]
    },
    {
     "cell_type": "code",
     "collapsed": false,
     "input": [
      "# Position signal\n",
      "X_t = TimedArray(x_pos, traj_dt)\n",
      "Y_t = TimedArray(y_pos, traj_dt)\n",
      "\n",
      "# Velocity signal\n",
      "dx = quick_boxcar(x_pos[1:] - x_pos[:-1]) * meter\n",
      "dy = quick_boxcar(y_pos[1:] - y_pos[:-1]) * meter\n",
      "\n",
      "speed = (sqrt(dx**2 + dy**2) / traj_dt) / (cm / second) # speed doesn't need units\n",
      "speed_t = TimedArray(speed, traj_dt)\n",
      "\n",
      "angle = xy_to_rad_vec(dx, dy)\n",
      "angle_t = TimedArray(angle, traj_dt)\n",
      "\n",
      "logunit(speed, 'speed')\n",
      "logunit(angle, 'angle')"
     ],
     "language": "python",
     "metadata": {},
     "outputs": [],
     "prompt_number": 10
    },
    {
     "cell_type": "markdown",
     "metadata": {},
     "source": [
      "### Plot trajectory data signals"
     ]
    },
    {
     "cell_type": "code",
     "collapsed": false,
     "input": [
      "def plot_traj_data():\n",
      "    f, ax = plt.subplots(1, 3, figsize=(13,4))\n",
      "    f.suptitle('trajectory data: (x,y), speed, angle')\n",
      "    ax, sax, aax = ax\n",
      "    \n",
      "    ax.plot(X_t.values / cm, Y_t.values / cm, 'r-');\n",
      "    draw_arena(ax)\n",
      "    ax.axis('equal')\n",
      "    ax.axis([-70,70,-50,50])\n",
      "    ax.set(xlabel='x (cm)', ylabel='y (cm)')\n",
      "    \n",
      "    sax.plot(arange(speed.size) * traj_dt, speed)\n",
      "    sax.set(xlabel='t (s)', ylabel='speed (cm/s)')\n",
      "    \n",
      "    aax.plot(arange(angle.size) * traj_dt, angle)\n",
      "    aax.set(xlabel='t (s)', ylabel='angle (rad)')    \n",
      "    \n",
      "if DEBUG:\n",
      "    plot_traj_data()"
     ],
     "language": "python",
     "metadata": {},
     "outputs": [],
     "prompt_number": 11
    },
    {
     "cell_type": "markdown",
     "metadata": {},
     "source": [
      "### Trajectory model"
     ]
    },
    {
     "cell_type": "code",
     "collapsed": false,
     "input": [
      "traj_eqs = \"\"\"\n",
      "    X = X_t(t) : meter\n",
      "    Y = Y_t(t) : meter\n",
      "    speed = speed_t(t) : 1  # cm /s\n",
      "    angle = angle_t(t) : 1  # radians\n",
      "\"\"\"\n",
      "\n",
      "Trajectory = NeuronGroup(1, model=traj_eqs, dt=traj_dt, order=-1)\n",
      "\n",
      "if DEBUG:\n",
      "    print(traj_eqs)\n",
      "    print(Trajectory)"
     ],
     "language": "python",
     "metadata": {},
     "outputs": [],
     "prompt_number": 12
    }
   ],
   "metadata": {}
  }
 ]
}